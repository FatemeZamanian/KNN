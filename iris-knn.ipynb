{
 "cells": [
  {
   "cell_type": "code",
   "execution_count": 223,
   "id": "8b2e5dc1",
   "metadata": {},
   "outputs": [],
   "source": [
    "import matplotlib.pyplot as plt\n",
    "import pandas as pd\n",
    "import numpy as np\n",
    "from sklearn.model_selection import train_test_split\n",
    "from sklearn.datasets import load_iris "
   ]
  },
  {
   "cell_type": "code",
   "execution_count": 224,
   "id": "fb26b046",
   "metadata": {},
   "outputs": [],
   "source": [
    "data=load_iris()\n",
    "x=data.data\n",
    "y=data.target"
   ]
  },
  {
   "cell_type": "code",
   "execution_count": 225,
   "id": "d2f94437",
   "metadata": {},
   "outputs": [],
   "source": [
    "class KNearestNeighbors:\n",
    "    def __init__(self, k):\n",
    "        self.k = k\n",
    "        \n",
    "    def fit(self, x_train, y_train):\n",
    "        self.x_train = x_train\n",
    "        self.y_train = y_train\n",
    "        self.number_class = len(np.unique(y_train))\n",
    "        \n",
    "    def distance(self,a,b):\n",
    "        dis = np.sqrt(np.sum((a-b)**2, axis = 1))\n",
    "        return dis\n",
    "        \n",
    "    def nearestNeighbors(self, x_test):\n",
    "        point_dist=[]\n",
    "        for x in x_test:\n",
    "            point_dist.append(self.distance(x,self.x_train))\n",
    "            \n",
    "        neigh_ind=[]\n",
    "        for row in point_dist:\n",
    "            near_neighbor = np.argsort(row)[:self.k]\n",
    "            neigh_ind.append(near_neighbor)\n",
    "            \n",
    "        return np.array(neigh_ind)\n",
    "    \n",
    "    def predict(self, x_test):\n",
    "        neighbors = self.nearestNeighbors(x_test)\n",
    "        y_pred=[]\n",
    "        for neighbor in neighbors:\n",
    "            y_pred.append(np.argmax(np.bincount(self.y_train[neighbor])))\n",
    "        return np.array(y_pred)\n",
    "    \n",
    "    def evaluate(self,x_test,y_test):\n",
    "        temp=[]\n",
    "        c=0\n",
    "        self.x_test=x_test\n",
    "        self.y_test=y_test\n",
    "        temp=self.predict(self.x_test)\n",
    "        for i in range(len(self.x_test)):\n",
    "            if temp[i]==self.y_test[i]:\n",
    "                c+=1\n",
    "        ev=c/len(y_test)\n",
    "        return ev"
   ]
  },
  {
   "cell_type": "code",
   "execution_count": 226,
   "id": "296ced21",
   "metadata": {},
   "outputs": [],
   "source": [
    "Kn=[1,3,5,7,9,11,13,15,17]\n",
    "Evaluate=[]\n",
    "X_train, X_test, Y_train, Y_test = train_test_split(x, y, test_size=0.25,random_state=4)\n",
    "for i in Kn:\n",
    "    knn=KNearestNeighbors(k=i)\n",
    "    knn.fit(X_train,Y_train)\n",
    "    a=knn.evaluate(X_test,Y_test)\n",
    "    Evaluate.append(a)"
   ]
  },
  {
   "cell_type": "code",
   "execution_count": 227,
   "id": "ef2919f3-e469-4568-bcdd-dae1e00ab63f",
   "metadata": {},
   "outputs": [
    {
     "data": {
      "text/plain": [
       "<BarContainer object of 9 artists>"
      ]
     },
     "execution_count": 227,
     "metadata": {},
     "output_type": "execute_result"
    },
    {
     "data": {
      "image/png": "[encoded data removed]",
      "text/plain": [
       "<Figure size 432x288 with 1 Axes>"
      ]
     },
     "metadata": {},
     "output_type": "display_data"
    }
   ],
   "source": [
    "px=Evaluate\n",
    "py=Kn\n",
    "plt.bar(x=py,\n",
    "        height=px,\n",
    "        color='blue',\n",
    "        width=1)\n"
   ]
  },
  {
   "cell_type": "code",
   "execution_count": 228,
   "id": "a692c752-f682-450a-96ae-d31c1e591573",
   "metadata": {},
   "outputs": [
    {
     "data": {
      "image/png": "[encoded data removed]",
      "text/plain": [
       "<Figure size 432x288 with 2 Axes>"
      ]
     },
     "metadata": {},
     "output_type": "display_data"
    }
   ],
   "source": [
    "knn = KNearestNeighbors(k=5)\n",
    "X_train, X_test, Y_train, Y_test = train_test_split(x, y, test_size=0.3, random_state=5)\n",
    "knn.fit(X_train,Y_train)\n",
    "y_pred = knn.predict(X_test)\n",
    "f1_f1 =0\n",
    "f1_f2 =0\n",
    "f1_f3 =0\n",
    "f2_f1 = 0\n",
    "f2_f2 = 0\n",
    "f2_f3 = 0\n",
    "f3_f1 = 0\n",
    "f3_f2 = 0\n",
    "f3_f3 = 0\n",
    "for i in range(len(Y_test)):\n",
    "    if y_pred[i] == 0 and Y_test[i] == 0:\n",
    "        f1_f1 += 1\n",
    "    if y_pred[i] == 1 and Y_test[i] == 1:\n",
    "        f2_f2 += 1\n",
    "    if y_pred[i] == 2 and Y_test[i] == 2:\n",
    "        f3_f3 += 1\n",
    "    if y_pred[i] == 0 and Y_test[i] == 1:\n",
    "        f1_f2 += 1\n",
    "    if y_pred[i] == 0 and Y_test[i] == 2:\n",
    "        f1_f3 += 1\n",
    "    if y_pred[i] == 1 and Y_test[i] == 0:\n",
    "        f2_f1 += 1\n",
    "    if y_pred[i] == 1 and Y_test[i] == 2:\n",
    "        f2_f3 += 1\n",
    "    if y_pred[i] == 2 and Y_test[i] == 0:\n",
    "        f3_f1 += 1\n",
    "    if y_pred[i] == 2 and Y_test[i] == 1:\n",
    "        f3_f2 += 1\n",
    "        \n",
    "\n",
    "import seaborn as sns\n",
    "sns.set_theme()\n",
    "udata = [[f1_f1,f1_f2,f1_f3],[f2_f1,f2_f2,f2_f3],[f3_f1,f3_f2,f3_f3]]\n",
    "ax = sns.heatmap(udata,annot=True, fmt=\"d\")"
   ]
  },
  {
   "cell_type": "code",
   "execution_count": null,
   "id": "8fafa5c9-a27f-4aac-8192-938497149c80",
   "metadata": {},
   "outputs": [],
   "source": []
  }
 ],
 "metadata": {
  "kernelspec": {
   "display_name": "Python 3 (ipykernel)",
   "language": "python",
   "name": "python3"
  },
  "language_info": {
   "codemirror_mode": {
    "name": "ipython",
    "version": 3
   },
   "file_extension": ".py",
   "mimetype": "text/x-python",
   "name": "python",
   "nbconvert_exporter": "python",
   "pygments_lexer": "ipython3",
   "version": "3.8.10"
  }
 },
 "nbformat": 4,
 "nbformat_minor": 5
}
