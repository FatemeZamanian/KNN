{
 "cells": [
  {
   "cell_type": "code",
   "execution_count": 45,
   "id": "8b2e5dc1",
   "metadata": {},
   "outputs": [],
   "source": [
    "import matplotlib.pyplot as plt\n",
    "import pandas as pd\n",
    "import numpy as np\n",
    "from sklearn.model_selection import train_test_split"
   ]
  },
  {
   "cell_type": "code",
   "execution_count": 46,
   "id": "fb26b046",
   "metadata": {},
   "outputs": [],
   "source": [
    "N=1000\n",
    "std=0.6\n",
    "\n",
    "banana_width=np.random.normal(4,std,N)\n",
    "banana_height=np.random.normal(8,std,N)\n",
    "\n",
    "apple_width=np.random.normal(6,std,N)\n",
    "apple_height=np.random.normal(6,std,N)\n",
    "\n",
    "width=np.concatenate((banana_width,apple_width))\n",
    "height=np.concatenate((banana_height,apple_height))\n",
    "\n",
    "X=np.array([width,height]).T\n",
    "\n",
    "apple_label=np.zeros(N,dtype='int')\n",
    "banana_label=np.ones(N,dtype='int')\n",
    "Y=np.concatenate((apple_label,banana_label))"
   ]
  },
  {
   "cell_type": "code",
   "execution_count": 47,
   "id": "db422619",
   "metadata": {},
   "outputs": [
    {
     "data": {
      "image/png": "[encoded data removed]",
      "text/plain": [
       "<Figure size 432x288 with 1 Axes>"
      ]
     },
     "metadata": {
      "needs_background": "light"
     },
     "output_type": "display_data"
    }
   ],
   "source": [
    "plt.figure()\n",
    "plt.scatter(X[0:N,0],X[0:N,1], c='blue')\n",
    "plt.scatter(X[N:,0],X[N:,1], c='orange')\n",
    "\n",
    "plt.xlabel('widths')\n",
    "plt.ylabel('heights')\n",
    "plt.show()"
   ]
  },
  {
   "cell_type": "code",
   "execution_count": 48,
   "id": "d2f94437",
   "metadata": {},
   "outputs": [],
   "source": [
    "class KNearestNeighbors:\n",
    "    def __init__(self, k):\n",
    "        self.k = k\n",
    "        \n",
    "    def fit(self, x_train, y_train):\n",
    "        self.x_train = x_train\n",
    "        self.y_train = y_train\n",
    "        self.number_class = len(np.unique(y_train))\n",
    "        \n",
    "    def nearestNeighbors(self, x_test):\n",
    "        distance = np.sqrt(np.sum((x_test - self.x_train)**2, axis = 1))\n",
    "        near_neighbor = np.argsort(distance)[0:self.k]\n",
    "        return near_neighbor\n",
    "    \n",
    "    def predict(self, x_test):\n",
    "        near_neighbor = self.nearestNeighbors(x_test)\n",
    "        y = np.argmax(np.bincount(self.y_train[near_neighbor]))\n",
    "        return y\n",
    "    def evaluate(self,x_test,y_test):\n",
    "        temp=[]\n",
    "        c=0\n",
    "        self.x_test=x_test\n",
    "        self.y_test=y_test\n",
    "        for t in self.x_test:\n",
    "            temp.append(self.predict(t))\n",
    "        for i in range(len(x_test)):\n",
    "            if temp[i]==y_test[i]:\n",
    "                c+=1\n",
    "        ev=c/len(y_test)\n",
    "        return ev"
   ]
  },
  {
   "cell_type": "code",
   "execution_count": 65,
   "id": "296ced21",
   "metadata": {},
   "outputs": [
    {
     "data": {
      "text/plain": [
       "0"
      ]
     },
     "execution_count": 65,
     "metadata": {},
     "output_type": "execute_result"
    }
   ],
   "source": [
    "knn=KNearestNeighbors(k=7)\n",
    "knn.fit(X,Y)\n",
    "new=np.array([4.7,6.8])\n",
    "knn.predict(new)\n"
   ]
  },
  {
   "cell_type": "code",
   "execution_count": 66,
   "id": "1a098895",
   "metadata": {},
   "outputs": [],
   "source": [
    "# N=1000\n",
    "# std=0.6\n",
    "# test_width=np.random.normal(6,std,N)\n",
    "# test_height=np.random.normal(6,std,N)\n",
    "# X_test=np.array([test_width,test_height]).T\n",
    "# Y_test=np.random.randint(2,size=N)"
   ]
  },
  {
   "cell_type": "code",
   "execution_count": 74,
   "id": "39e1ae9a",
   "metadata": {},
   "outputs": [
    {
     "data": {
      "text/plain": [
       "0.9942857142857143"
      ]
     },
     "execution_count": 74,
     "metadata": {},
     "output_type": "execute_result"
    }
   ],
   "source": [
    "knn = KNearestNeighbors(k=5)\n",
    "X_train, X_test, Y_train, Y_test = train_test_split(X, Y, test_size=0.35,random_state=42)\n",
    "knn.fit(X_train,Y_train)\n",
    "knn.evaluate(X_test, Y_test)"
   ]
  },
  {
   "cell_type": "code",
   "execution_count": 75,
   "id": "ec4978aa",
   "metadata": {},
   "outputs": [
    {
     "name": "stdout",
     "output_type": "stream",
     "text": [
      "0.9985714285714286\n"
     ]
    }
   ],
   "source": [
    "from sklearn.neighbors import KNeighborsClassifier\n",
    "nc=KNeighborsClassifier(n_neighbors=5)\n",
    "nc.fit(X,Y)\n",
    "p=nc.predict(X_test)\n",
    "ev = (p== Y_test).sum()/len(Y_test)\n",
    "print(ev)"
   ]
  },
  {
   "cell_type": "code",
   "execution_count": null,
   "id": "07706d5d",
   "metadata": {},
   "outputs": [],
   "source": []
  },
  {
   "cell_type": "code",
   "execution_count": null,
   "id": "15ec091e",
   "metadata": {},
   "outputs": [],
   "source": []
  }
 ],
 "metadata": {
  "kernelspec": {
   "display_name": "Python 3 (ipykernel)",
   "language": "python",
   "name": "python3"
  },
  "language_info": {
   "codemirror_mode": {
    "name": "ipython",
    "version": 3
   },
   "file_extension": ".py",
   "mimetype": "text/x-python",
   "name": "python",
   "nbconvert_exporter": "python",
   "pygments_lexer": "ipython3",
   "version": "3.8.10"
  }
 },
 "nbformat": 4,
 "nbformat_minor": 5
}
